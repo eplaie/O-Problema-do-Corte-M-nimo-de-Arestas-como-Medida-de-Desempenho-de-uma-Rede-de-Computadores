{
  "nbformat": 4,
  "nbformat_minor": 0,
  "metadata": {
    "colab": {
      "provenance": [],
      "authorship_tag": "ABX9TyMN004bYkUFdTQAOCTF8tbv",
      "include_colab_link": true
    },
    "kernelspec": {
      "name": "python3",
      "display_name": "Python 3"
    },
    "language_info": {
      "name": "python"
    }
  },
  "cells": [
    {
      "cell_type": "markdown",
      "metadata": {
        "id": "view-in-github",
        "colab_type": "text"
      },
      "source": [
        "<a href=\"https://colab.research.google.com/github/eplaie/O-Problema-do-Corte-M-nimo-de-Arestas-como-Medida-de-Desempenho-de-uma-Rede-de-Computadores/blob/main/TrabalhoFInalAEDS.ipynb\" target=\"_parent\"><img src=\"https://colab.research.google.com/assets/colab-badge.svg\" alt=\"Open In Colab\"/></a>"
      ]
    },
    {
      "cell_type": "code",
      "execution_count": 1,
      "metadata": {
        "id": "AKbOSl5o0MSz"
      },
      "outputs": [],
      "source": [
        "import networkx as nx\n",
        "import matplotlib.pyplot as plt\n",
        "import pandas as pd\n",
        "import time"
      ]
    },
    {
      "cell_type": "code",
      "source": [
        "def plot_graph(graph, graph_name, cut_partition=None):\n",
        "    plt.figure(figsize=(8, 8))\n",
        "    plt.title(f'Grafo: {graph_name}')\n",
        "\n",
        "    pos = nx.spring_layout(graph, seed=42)  #layout\n",
        "\n",
        "    if cut_partition:\n",
        "        # Pintar os vértices de uma partição de azul e da outra partição de amarelo\n",
        "        node_colors = ['b' if node in cut_partition[0] else 'y' for node in graph.nodes]\n",
        "\n",
        "        nx.draw(graph, pos, with_labels=False, node_color=node_colors, edge_color='c', node_size=10, linewidths=1)\n",
        "\n",
        "        cut_edges = [(u, v) for u, v in graph.edges() if (u in cut_partition[0] and v in cut_partition[1]) or (v in cut_partition[0] and u in cut_partition[1])]\n",
        "        nx.draw_networkx_edges(graph, pos, edgelist=cut_edges, edge_color='r', width=2)\n",
        "    else:\n",
        "        nx.draw(graph, pos, with_labels=False, edge_color='c', node_size=10, linewidths=1)\n",
        "\n",
        "    # Exibe o gráfico\n",
        "    plt.show()"
      ],
      "metadata": {
        "id": "b9wdqdhHp6Mm"
      },
      "execution_count": 2,
      "outputs": []
    },
    {
      "cell_type": "code",
      "source": [
        "# Função para ler dados do arquivo CSV e criar um grafo\n",
        "def read_csv_to_graph(csv_filename):\n",
        "    df = pd.read_csv(csv_filename)\n",
        "    edges = [(row['source'], row['target']) for _, row in df.iterrows()]\n",
        "    graph = nx.Graph(edges)\n",
        "    return graph"
      ],
      "metadata": {
        "id": "9p5aBaSYp7ip"
      },
      "execution_count": 3,
      "outputs": []
    },
    {
      "cell_type": "code",
      "source": [
        "def exact_cut(graph):\n",
        "    # Calculando o corte mínimo usando networkx\n",
        "    start_time = time.time()\n",
        "    cut_value, partition = nx.stoer_wagner(graph)\n",
        "    elapsed_time = time.time() - start_time\n",
        "\n",
        "    return cut_value, partition, elapsed_time"
      ],
      "metadata": {
        "id": "cGBAZIWI0UxE"
      },
      "execution_count": 5,
      "outputs": []
    },
    {
      "cell_type": "code",
      "source": [
        "def extrair_informacoes_grafo(graph, graph_name):\n",
        "    # Número de vértices\n",
        "    num_vertices = len(graph.nodes())\n",
        "\n",
        "    # Número de arestas\n",
        "    num_arestas = len(graph.edges())\n",
        "\n",
        "    # Grau máximo\n",
        "    grau_maximo = max(dict(graph.degree()).values())\n",
        "\n",
        "    # Grau mínimo\n",
        "    grau_minimo = min(dict(graph.degree()).values())\n",
        "\n",
        "    # Densidade\n",
        "    densidade = nx.density(graph)\n",
        "\n",
        "    # Raio (menor excentricidade)\n",
        "    raio = nx.radius(graph)\n",
        "\n",
        "    # Diâmetro (maior excentricidade)\n",
        "    diametro = nx.diameter(graph)\n",
        "\n",
        "    print(f\"Grafo: {graph_name}\")\n",
        "    print(f\"Número de vértices: {num_vertices}\")\n",
        "    print(f\"Número de arestas: {num_arestas}\")\n",
        "    print(f\"Grau máximo: {grau_maximo}\")\n",
        "    print(f\"Grau mínimo: {grau_minimo}\")\n",
        "    print(f\"Densidade: {densidade}\")\n",
        "    print(f\"Raio: {raio}\")\n",
        "    print(f\"Diâmetro: {diametro}\")\n",
        "\n",
        "# Nomes dos arquivos CSV\n",
        "g7_csv_filename = 'g7.csv'\n",
        "g12_csv_filename = 'g12.csv'\n",
        "\n",
        "# Le os dados dos arquivos CSV para criar grafos\n",
        "g7_graph = read_csv_to_graph(g7_csv_filename)\n",
        "g12_graph = read_csv_to_graph(g12_csv_filename)\n",
        "\n",
        "\n",
        "# Extrair parametros dos grafos\n",
        "extrair_informacoes_grafo(g7_graph, 'g7')\n",
        "extrair_informacoes_grafo(g12_graph, 'g12')\n",
        "\n",
        "# Plota os grafos normais\n",
        "plot_graph(g7_graph, 'g7')\n",
        "plot_graph(g12_graph, 'g12')\n",
        "\n",
        "# Calcula o corte mínimo e obtém a partição\n",
        "print(\"a\")\n",
        "g7_cut_value, g7_partition, g7_elapsed_time = exact_cut(g7_graph)\n",
        "print(\"b\")\n",
        "g12_cut_value, g12_partition, g12_elapsed_time = exact_cut(g12_graph)\n",
        "print(\"c\")\n",
        "\n",
        "# Plota os grafos com destaque para o corte mínimo\n",
        "plot_graph(g7_graph, 'g7', g7_partition)\n",
        "plot_graph(g12_graph, 'g12', g12_partition)\n",
        "\n",
        "# Imprime os valores dos cortes mínimos e os tempos de execução\n",
        "print(f\"Corte Mínimo de g7: {g7_cut_value}\")\n",
        "print(f\"Tempo de execução de g7: {g7_elapsed_time:.6f} segundos\")\n",
        "\n",
        "print(f\"\\nCorte Mínimo de g12: {g12_cut_value}\")\n",
        "print(f\"Tempo de execução de g12: {g12_elapsed_time:.6f} segundos\")"
      ],
      "metadata": {
        "id": "YvGw-zuW_xRL",
        "colab": {
          "base_uri": "https://localhost:8080/",
          "height": 245
        },
        "outputId": "85ad5f4c-01e9-4c12-dceb-21c1a0255499"
      },
      "execution_count": 2,
      "outputs": [
        {
          "output_type": "error",
          "ename": "NameError",
          "evalue": "ignored",
          "traceback": [
            "\u001b[0;31m---------------------------------------------------------------------------\u001b[0m",
            "\u001b[0;31mNameError\u001b[0m                                 Traceback (most recent call last)",
            "\u001b[0;32m<ipython-input-2-d26c8349b6cd>\u001b[0m in \u001b[0;36m<cell line: 37>\u001b[0;34m()\u001b[0m\n\u001b[1;32m     35\u001b[0m \u001b[0;34m\u001b[0m\u001b[0m\n\u001b[1;32m     36\u001b[0m \u001b[0;31m# Le os dados dos arquivos CSV para criar grafos\u001b[0m\u001b[0;34m\u001b[0m\u001b[0;34m\u001b[0m\u001b[0m\n\u001b[0;32m---> 37\u001b[0;31m \u001b[0mg7_graph\u001b[0m \u001b[0;34m=\u001b[0m \u001b[0mread_csv_to_graph\u001b[0m\u001b[0;34m(\u001b[0m\u001b[0mg7_csv_filename\u001b[0m\u001b[0;34m)\u001b[0m\u001b[0;34m\u001b[0m\u001b[0;34m\u001b[0m\u001b[0m\n\u001b[0m\u001b[1;32m     38\u001b[0m \u001b[0mg12_graph\u001b[0m \u001b[0;34m=\u001b[0m \u001b[0mread_csv_to_graph\u001b[0m\u001b[0;34m(\u001b[0m\u001b[0mg12_csv_filename\u001b[0m\u001b[0;34m)\u001b[0m\u001b[0;34m\u001b[0m\u001b[0;34m\u001b[0m\u001b[0m\n\u001b[1;32m     39\u001b[0m \u001b[0;34m\u001b[0m\u001b[0m\n",
            "\u001b[0;31mNameError\u001b[0m: name 'read_csv_to_graph' is not defined"
          ]
        }
      ]
    }
  ]
}